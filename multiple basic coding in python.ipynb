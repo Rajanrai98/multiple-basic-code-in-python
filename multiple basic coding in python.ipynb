{
 "cells": [
  {
   "cell_type": "code",
   "execution_count": null,
   "id": "17caf694",
   "metadata": {},
   "outputs": [],
   "source": [
    "num = int(input(\"enter the number\"))\n",
    "i = 1\n",
    "while i<=10:\n",
    "    print(num,\"*\",i,\"=\",num*i)\n",
    "    i+=1"
   ]
  },
  {
   "cell_type": "code",
   "execution_count": null,
   "id": "d7dd7ce7",
   "metadata": {},
   "outputs": [],
   "source": [
    "num = int(input(\"enter the number\"))\n",
    "i = 1\n",
    "while i<=10:\n",
    "    print(num,\"*\",i,\"=\",num*i)\n",
    "    i+=1"
   ]
  },
  {
   "cell_type": "code",
   "execution_count": null,
   "id": "bf63aaed",
   "metadata": {},
   "outputs": [],
   "source": [
    "num = int(input(\"enter the number\"))\n",
    "sum = 0\n",
    "temp = num\n",
    "while temp>0:\n",
    "    digit = temp%10\n",
    "    cube = digit**3\n",
    "    sum = sum+cube\n",
    "    temp//=10\n",
    "if sum==num:\n",
    "    print(\"this is a armstrong number\")\n",
    "else:\n",
    "    print(\"this is not armstrong number\")"
   ]
  },
  {
   "cell_type": "code",
   "execution_count": null,
   "id": "1f8c90db",
   "metadata": {},
   "outputs": [],
   "source": [
    "num = int(input(\"enter the number\"))\n",
    "a = 0\n",
    "b = 1\n",
    "if num ==1:\n",
    "    print(a)\n",
    "else:\n",
    "    print(a)\n",
    "    print(b)\n",
    "    for i in range(1,num+1):\n",
    "        c = a+b\n",
    "        a = b\n",
    "        b = c\n",
    "        print(c)"
   ]
  },
  {
   "cell_type": "code",
   "execution_count": null,
   "id": "8e71ea45",
   "metadata": {},
   "outputs": [],
   "source": [
    "num = int(input(\"enter the number\"))\n",
    "a = 0\n",
    "b = 1\n",
    "if num ==1:\n",
    "    print(a)\n",
    "else:\n",
    "    print(a)\n",
    "    print(b)\n",
    "    for i in range(1,num+1):\n",
    "        c = a+b\n",
    "        a = b\n",
    "        b = c\n",
    "        print(c)"
   ]
  },
  {
   "cell_type": "code",
   "execution_count": 8,
   "id": "57112881",
   "metadata": {},
   "outputs": [
    {
     "name": "stdout",
     "output_type": "stream",
     "text": [
      "value of hcf 5\n"
     ]
    }
   ],
   "source": [
    "def hcf(x,y):\n",
    "    if x>y:\n",
    "        smaller = y\n",
    "    else:\n",
    "        smaller = x\n",
    "    for i in range(1,smaller+1):\n",
    "        if x%i==0 and y%i==0:\n",
    "            hcf = i\n",
    "    return hcf\n",
    "print(\"value of hcf\",hcf(25,30))"
   ]
  },
  {
   "cell_type": "code",
   "execution_count": null,
   "id": "e69656fc",
   "metadata": {},
   "outputs": [],
   "source": [
    "def hcf(x,y):\n",
    "    if x>y:\n",
    "        smaller = y\n",
    "    else:\n",
    "        smaller = x\n",
    "    for i in range(1,smaller+1):\n",
    "        if x%i==0 and y%i==0:\n",
    "            hcf = i\n",
    "    return hcf\n",
    "print(\"the value of hcf\",hcf(50,75))"
   ]
  },
  {
   "cell_type": "code",
   "execution_count": null,
   "id": "1e6e46ac",
   "metadata": {},
   "outputs": [],
   "source": [
    "print(\"hello python\")"
   ]
  },
  {
   "cell_type": "code",
   "execution_count": null,
   "id": "c4b23766",
   "metadata": {},
   "outputs": [],
   "source": [
    "num1 = int(input(\"enter the number:\"))\n",
    "num2 = int(input(\"enter the number\"))\n",
    "add = num1+num2\n",
    "print(add)"
   ]
  },
  {
   "cell_type": "code",
   "execution_count": null,
   "id": "c2bfc89c",
   "metadata": {},
   "outputs": [],
   "source": [
    "num1 = int(input(\"enter the number:\"))\n",
    "num2 = int(input(\"enter the number\"))\n",
    "division = num1/num2\n",
    "print(division)"
   ]
  },
  {
   "cell_type": "code",
   "execution_count": null,
   "id": "16c6771b",
   "metadata": {},
   "outputs": [],
   "source": [
    "base = int(input(\"enter the base value\"))\n",
    "height = int(input(\"enter the height value\"))\n",
    "area = 0.5*base*height\n",
    "print(area)"
   ]
  },
  {
   "cell_type": "code",
   "execution_count": null,
   "id": "b47d9c51",
   "metadata": {},
   "outputs": [],
   "source": [
    "num1 = float(input(\"enter the number\"))\n",
    "num2 = float(input(\"enter the number\"))\n",
    "num1,num2 = num2,num1\n",
    "print(num1,num2)"
   ]
  },
  {
   "cell_type": "code",
   "execution_count": null,
   "id": "02b74e06",
   "metadata": {},
   "outputs": [],
   "source": [
    "import random"
   ]
  },
  {
   "cell_type": "code",
   "execution_count": null,
   "id": "b09d1dac",
   "metadata": {},
   "outputs": [],
   "source": [
    "num1 = int(input(\"enter the number:\"))\n",
    "num2 = int(input(\"enter the number\"))\n",
    "result = random.randint(num1,num2)\n",
    "print(result)"
   ]
  },
  {
   "cell_type": "code",
   "execution_count": null,
   "id": "22615258",
   "metadata": {},
   "outputs": [],
   "source": [
    "km = int(input(\"enter the value\"))\n",
    "miles = km/1.6\n",
    "print(miles)"
   ]
  },
  {
   "cell_type": "code",
   "execution_count": null,
   "id": "0628265e",
   "metadata": {},
   "outputs": [],
   "source": [
    "cel = int(input(\"enter the vvalue of celcius\"))\n",
    "fah = (cel*1.8)+32\n",
    "print(fah)"
   ]
  },
  {
   "cell_type": "code",
   "execution_count": null,
   "id": "12aa6a89",
   "metadata": {},
   "outputs": [],
   "source": [
    "import calendar"
   ]
  },
  {
   "cell_type": "code",
   "execution_count": null,
   "id": "18777ff8",
   "metadata": {},
   "outputs": [],
   "source": [
    "year = int(input(\"enter the value year:\"))\n",
    "month = int(input(\"enter the value month:\"))\n",
    "calendar_1 = calendar.month(year,month)\n",
    "print(calendar_1)"
   ]
  },
  {
   "cell_type": "code",
   "execution_count": null,
   "id": "d628f620",
   "metadata": {},
   "outputs": [],
   "source": [
    "result = calendar.month(2024,11)\n",
    "print(result)"
   ]
  },
  {
   "cell_type": "code",
   "execution_count": null,
   "id": "04d1e798",
   "metadata": {},
   "outputs": [],
   "source": [
    "import numpy as np"
   ]
  },
  {
   "cell_type": "code",
   "execution_count": null,
   "id": "63f0828b",
   "metadata": {},
   "outputs": [],
   "source": [
    "a = int(input(\"enter the value of a\"))\n",
    "b = int(input(\"enter the value of b\"))\n",
    "c = int(input(\"enter the value of c\"))\n",
    "\n",
    "discrement = (b**2)-(4*a*c)\n",
    "if discrement>0:\n",
    "    root1 = (-b+np.sqrt(discrement))/(2*a)\n",
    "    root2 = (-b-np.sqrt(discrement))/(2*a)\n",
    "    print(f\"root1:{root1}\")\n",
    "    print(f\"root2:{root2}\")\n",
    "elif discrement ==0:\n",
    "    root = -b/(2*a)\n",
    "    print(f\"root:{root}\")\n",
    "    \n",
    "else:\n",
    "    real_part = -b/(2*a)\n",
    "    imaginary_part = np.sqrt(abs(discrement))/(2*a)\n",
    "    print(f\"root1:{real_part}+{imaginary_part}i\")\n",
    "    print(f\"root2:{real_part}+{imaginary_part}i\")"
   ]
  },
  {
   "cell_type": "code",
   "execution_count": null,
   "id": "5b99b83a",
   "metadata": {},
   "outputs": [],
   "source": [
    "num = int(input(\"enter the number\"))\n",
    "if num>0:\n",
    "    print(\"num is positive\")\n",
    "elif num==0:\n",
    "    print(\"num is zero\")\n",
    "else:\n",
    "    print(\"num is negative\")"
   ]
  },
  {
   "cell_type": "code",
   "execution_count": null,
   "id": "7e53e31e",
   "metadata": {},
   "outputs": [],
   "source": [
    "num = int(input(\"enter the number\"))\n",
    "if num%2==0:\n",
    "    print(\"the num is even\")\n",
    "else:\n",
    "    print(\"the num is odd\")"
   ]
  },
  {
   "cell_type": "code",
   "execution_count": null,
   "id": "dd0e3ad1",
   "metadata": {},
   "outputs": [],
   "source": [
    "year = int(input(\"enter the year\"))\n",
    "if year%100==0 and year%400==0:\n",
    "    print(\"this year is leap year\")\n",
    "elif year%4==0 and year%100!=0:\n",
    "    print(\"this year leap year\")\n",
    "else:\n",
    "    print(\"this year is not a leap year\")"
   ]
  },
  {
   "cell_type": "code",
   "execution_count": null,
   "id": "d177bc6a",
   "metadata": {},
   "outputs": [],
   "source": [
    "num = int(input(\"enter the number\"))\n",
    "if num>1:\n",
    "    for i in range(2,num+1):\n",
    "        if num%i==0:\n",
    "            break\n",
    "            print(\"this is not a prime number\")\n",
    "        else:\n",
    "            print(\"this is a prime number\")"
   ]
  },
  {
   "cell_type": "code",
   "execution_count": null,
   "id": "5d0101dc",
   "metadata": {},
   "outputs": [],
   "source": [
    "lower = int(input(\"enter the value:\"))\n",
    "upper = int(input(\"enter the value:\"))\n",
    "for num in range(lower,upper+1):\n",
    "    if num==0:\n",
    "        print(\"this is not a prime number\")\n",
    "    if num>1:\n",
    "        for i in range(2,num):\n",
    "            if num%i==0:\n",
    "                break\n",
    "        else:\n",
    "            print(num)"
   ]
  },
  {
   "cell_type": "code",
   "execution_count": null,
   "id": "e5e50326",
   "metadata": {},
   "outputs": [],
   "source": [
    "def factorial(a):\n",
    "    if a==0:\n",
    "        return 1\n",
    "    else:\n",
    "        return(a*factorial(a-1))\n",
    "    "
   ]
  },
  {
   "cell_type": "code",
   "execution_count": null,
   "id": "93ff2804",
   "metadata": {},
   "outputs": [],
   "source": [
    "factorial(2)"
   ]
  },
  {
   "cell_type": "code",
   "execution_count": null,
   "id": "deff2196",
   "metadata": {},
   "outputs": [],
   "source": [
    "num = int(input(\"enter the number\"))\n",
    "factorial = 1\n",
    "if num<0:\n",
    "    print(\"the factorial does not exist\")\n",
    "if num==0:\n",
    "    print(\"the fatorial of 0 is 1\")\n",
    "if num>1:\n",
    "    for i in range(1,num+1):\n",
    "        factorial = factorial*i\n",
    "    print(\"factorial of given number\",factorial)\n",
    "    "
   ]
  },
  {
   "cell_type": "code",
   "execution_count": null,
   "id": "d3d29e97",
   "metadata": {},
   "outputs": [],
   "source": [
    "num = int(input(\"enter the number\"))\n",
    "factorial = 1\n",
    "if num<0:\n",
    "    print(\"factorial does not exist\")\n",
    "if num==0:\n",
    "    print(\"factorial of zero is 1\")\n",
    "if num>1:\n",
    "    for i in range(1,num+1):\n",
    "        factorial = factorial*i\n",
    "    print(\"factorial of given number\",factorial)"
   ]
  },
  {
   "cell_type": "code",
   "execution_count": null,
   "id": "37621fe6",
   "metadata": {},
   "outputs": [],
   "source": [
    "## sum of the natural number\n",
    "num = int(input(\"enter the number\"))\n",
    "sum = 0\n",
    "for i in range(1,num+1):\n",
    "    sum+=i\n",
    "    print(sum)\n"
   ]
  },
  {
   "cell_type": "code",
   "execution_count": null,
   "id": "65a1e72d",
   "metadata": {},
   "outputs": [],
   "source": [
    "def lcm(x,y):\n",
    "    if x>y:\n",
    "        greater = x\n",
    "    else:\n",
    "        greater = y\n",
    "    while (True):\n",
    "        if greater%x==0 and greater%y==0:\n",
    "            lcm = greater\n",
    "            break\n",
    "            greater+=1\n",
    "    return lcm\n",
    "print(\"the L.C.M. is\",lcm(20,25))\n",
    "        "
   ]
  },
  {
   "cell_type": "code",
   "execution_count": 10,
   "id": "2a962650",
   "metadata": {},
   "outputs": [
    {
     "name": "stdout",
     "output_type": "stream",
     "text": [
      "the value of hcf 5\n"
     ]
    }
   ],
   "source": [
    "def hcf(x,y):\n",
    "    if x>y:\n",
    "        smaller = y\n",
    "    else:\n",
    "        smaller = x\n",
    "    for i in range(1,smaller+1):\n",
    "        if x%i==0 and y%i==0:\n",
    "            hcf = i\n",
    "    return hcf\n",
    "print(\"the value of hcf\",hcf(20,25))\n",
    "            "
   ]
  },
  {
   "cell_type": "code",
   "execution_count": 11,
   "id": "5cea2772",
   "metadata": {},
   "outputs": [
    {
     "name": "stdout",
     "output_type": "stream",
     "text": [
      "the value of lcm 60\n"
     ]
    }
   ],
   "source": [
    "def lcm(x,y):\n",
    "    if x>y:\n",
    "        greater = x\n",
    "    else:\n",
    "        greater = y\n",
    "    while True:\n",
    "        if greater%x==0 and greater%y==0:\n",
    "            lcm = greater\n",
    "            break\n",
    "            greater+=1\n",
    "    return lcm\n",
    "print(\"the value of lcm\",lcm(60,30))\n"
   ]
  },
  {
   "cell_type": "code",
   "execution_count": 12,
   "id": "9d1f0231",
   "metadata": {},
   "outputs": [
    {
     "name": "stdout",
     "output_type": "stream",
     "text": [
      "enter the value 27\n",
      "the value number in form of binary 0b11011\n",
      "the value number in form of hex 0x1b\n",
      "the value number in form of oct 0o33\n"
     ]
    }
   ],
   "source": [
    "number = int(input(\"enter the value\"))\n",
    "print(\"the value number in form of binary\",bin(number))\n",
    "print(\"the value number in form of hex\",hex(number))\n",
    "print(\"the value number in form of oct\",oct(number))"
   ]
  },
  {
   "cell_type": "markdown",
   "id": "5488d438",
   "metadata": {},
   "source": [
    "### ASCII stands for American standard  code for information interchange that is  character encoding standard uses numeric values to represent the characters ASCII value range 0 to 127 for 7 bit and 0 to 255 for 0 to 255 with each value corresponding to a specific character."
   ]
  },
  {
   "cell_type": "code",
   "execution_count": 14,
   "id": "abce508d",
   "metadata": {},
   "outputs": [
    {
     "name": "stdout",
     "output_type": "stream",
     "text": [
      "enter the characterP\n",
      "the ASCII value of 'P' is 80\n"
     ]
    }
   ],
   "source": [
    "char = str(input(\"enter the character\"))\n",
    "print(\"the ASCII value of '\"+char+\"' is\",ord(char))"
   ]
  },
  {
   "cell_type": "code",
   "execution_count": 15,
   "id": "6fb8e6c6",
   "metadata": {},
   "outputs": [
    {
     "name": "stdout",
     "output_type": "stream",
     "text": [
      "enter the number 35\n",
      "enter the number 23\n",
      "press 1 for additon \n",
      "press2 for substraction \n",
      "press3 for multiply \n",
      "press4 for division\n",
      "enter the choice 1-4:3\n",
      "muultiply: 805\n"
     ]
    }
   ],
   "source": [
    "num1 = int(input(\"enter the number\"))\n",
    "num2 = int(input(\"enter the number\"))\n",
    "\n",
    "print(\"press 1 for additon \\npress2 for substraction \\npress3 for multiply \\npress4 for division\")\n",
    "\n",
    "choice = int(input(\"enter the choice 1-4:\"))\n",
    "\n",
    "if choice ==1:\n",
    "    print(\"additon:\",num1+num2)\n",
    "elif choice ==2:\n",
    "    print(\"substraction:\",num1-num2)\n",
    "elif choice ==3:\n",
    "    print(\"muultiply:\",num1*num2)\n",
    "elif choice ==4:\n",
    "    print(\"division:\",num1/num2)\n",
    "else:\n",
    "    print(\"invalid input\")"
   ]
  },
  {
   "cell_type": "code",
   "execution_count": 16,
   "id": "79991a8d",
   "metadata": {},
   "outputs": [
    {
     "name": "stdout",
     "output_type": "stream",
     "text": [
      "enter the number1: 4\n",
      "enter the number27\n",
      "press 1 for addition\n",
      "press 2 for substraction\n",
      "press3 for multiplication\n",
      "press4 for division\n",
      "enter the choice number 1-42\n",
      "substraction: -3\n"
     ]
    }
   ],
   "source": [
    "num1 = int(input(\"enter the number1:\"))\n",
    "num2 = int(input(\"enter the number2\"))\n",
    "print(\"press 1 for addition\\npress 2 for substraction\\npress3 for multiplication\\npress4 for division\")\n",
    "\n",
    "choice = int(input(\"enter the choice number 1-4\"))\n",
    "\n",
    "if choice==1:\n",
    "    print(\"addition:\",num1+num2)\n",
    "elif choice==2:\n",
    "    print(\"substraction:\",num1-num2)\n",
    "elif choice==3:\n",
    "    print(\"multiplication:\",num1*num2)\n",
    "elif choice==4:\n",
    "    print(\"division:\",num1/num2)\n",
    "else:\n",
    "    print(\"input is invalid\")"
   ]
  },
  {
   "cell_type": "code",
   "execution_count": null,
   "id": "3bc2cc84",
   "metadata": {},
   "outputs": [],
   "source": []
  }
 ],
 "metadata": {
  "kernelspec": {
   "display_name": "Python 3 (ipykernel)",
   "language": "python",
   "name": "python3"
  },
  "language_info": {
   "codemirror_mode": {
    "name": "ipython",
    "version": 3
   },
   "file_extension": ".py",
   "mimetype": "text/x-python",
   "name": "python",
   "nbconvert_exporter": "python",
   "pygments_lexer": "ipython3",
   "version": "3.10.9"
  }
 },
 "nbformat": 4,
 "nbformat_minor": 5
}
